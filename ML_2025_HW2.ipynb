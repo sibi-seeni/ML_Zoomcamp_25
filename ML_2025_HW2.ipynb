{
  "nbformat": 4,
  "nbformat_minor": 0,
  "metadata": {
    "colab": {
      "provenance": []
    },
    "kernelspec": {
      "name": "python3",
      "display_name": "Python 3"
    },
    "language_info": {
      "name": "python"
    }
  },
  "cells": [
    {
      "cell_type": "markdown",
      "source": [
        "# Data Preparation"
      ],
      "metadata": {
        "id": "ZBcDCddjXtxi"
      }
    },
    {
      "cell_type": "markdown",
      "source": [
        "### Importing Modules"
      ],
      "metadata": {
        "id": "zd1vDFs5XI_o"
      }
    },
    {
      "cell_type": "code",
      "execution_count": 46,
      "metadata": {
        "id": "0-Asbrr9Px7I"
      },
      "outputs": [],
      "source": [
        "import pandas as pd\n",
        "import numpy as np\n",
        "import matplotlib.pyplot as plt\n",
        "%matplotlib inline\n",
        "import seaborn as sns\n",
        "from sklearn.model_selection import train_test_split"
      ]
    },
    {
      "cell_type": "markdown",
      "source": [
        "## Loading data"
      ],
      "metadata": {
        "id": "0PKBNNpJUGxS"
      }
    },
    {
      "cell_type": "code",
      "source": [
        "file = 'https://raw.githubusercontent.com/alexeygrigorev/datasets/master/car_fuel_efficiency.csv'\n",
        "df = pd.read_csv(file)"
      ],
      "metadata": {
        "id": "41RAhEaBQB3R"
      },
      "execution_count": 47,
      "outputs": []
    },
    {
      "cell_type": "code",
      "source": [
        "df = df.drop(columns=['num_cylinders', 'origin', 'acceleration', 'fuel_type', 'drivetrain', 'num_doors'])"
      ],
      "metadata": {
        "id": "Yx3-76-oQEbl"
      },
      "execution_count": 48,
      "outputs": []
    },
    {
      "cell_type": "code",
      "source": [
        "df.head(10)"
      ],
      "metadata": {
        "colab": {
          "base_uri": "https://localhost:8080/",
          "height": 359
        },
        "id": "-BwkdeVD3ZyB",
        "outputId": "8bb637ff-7be9-42b5-912c-3cddedd04155"
      },
      "execution_count": 49,
      "outputs": [
        {
          "output_type": "execute_result",
          "data": {
            "text/plain": [
              "   engine_displacement  horsepower  vehicle_weight  model_year  \\\n",
              "0                  170       159.0     3413.433759        2003   \n",
              "1                  130        97.0     3149.664934        2007   \n",
              "2                  170        78.0     3079.038997        2018   \n",
              "3                  220         NaN     2542.392402        2009   \n",
              "4                  210       140.0     3460.870990        2009   \n",
              "5                  190         NaN     2484.883986        2008   \n",
              "6                  240       127.0     3006.542287        2012   \n",
              "7                  150       239.0     3638.657780        2020   \n",
              "8                  250       174.0     2714.219310        2016   \n",
              "9                  150       123.0     3509.036569        2005   \n",
              "\n",
              "   fuel_efficiency_mpg  \n",
              "0            13.231729  \n",
              "1            13.688217  \n",
              "2            14.246341  \n",
              "3            16.912736  \n",
              "4            12.488369  \n",
              "5            17.271818  \n",
              "6            13.210412  \n",
              "7            12.848884  \n",
              "8            16.823554  \n",
              "9            12.298355  "
            ],
            "text/html": [
              "\n",
              "  <div id=\"df-f13815af-075f-404b-98ad-a0ab18708749\" class=\"colab-df-container\">\n",
              "    <div>\n",
              "<style scoped>\n",
              "    .dataframe tbody tr th:only-of-type {\n",
              "        vertical-align: middle;\n",
              "    }\n",
              "\n",
              "    .dataframe tbody tr th {\n",
              "        vertical-align: top;\n",
              "    }\n",
              "\n",
              "    .dataframe thead th {\n",
              "        text-align: right;\n",
              "    }\n",
              "</style>\n",
              "<table border=\"1\" class=\"dataframe\">\n",
              "  <thead>\n",
              "    <tr style=\"text-align: right;\">\n",
              "      <th></th>\n",
              "      <th>engine_displacement</th>\n",
              "      <th>horsepower</th>\n",
              "      <th>vehicle_weight</th>\n",
              "      <th>model_year</th>\n",
              "      <th>fuel_efficiency_mpg</th>\n",
              "    </tr>\n",
              "  </thead>\n",
              "  <tbody>\n",
              "    <tr>\n",
              "      <th>0</th>\n",
              "      <td>170</td>\n",
              "      <td>159.0</td>\n",
              "      <td>3413.433759</td>\n",
              "      <td>2003</td>\n",
              "      <td>13.231729</td>\n",
              "    </tr>\n",
              "    <tr>\n",
              "      <th>1</th>\n",
              "      <td>130</td>\n",
              "      <td>97.0</td>\n",
              "      <td>3149.664934</td>\n",
              "      <td>2007</td>\n",
              "      <td>13.688217</td>\n",
              "    </tr>\n",
              "    <tr>\n",
              "      <th>2</th>\n",
              "      <td>170</td>\n",
              "      <td>78.0</td>\n",
              "      <td>3079.038997</td>\n",
              "      <td>2018</td>\n",
              "      <td>14.246341</td>\n",
              "    </tr>\n",
              "    <tr>\n",
              "      <th>3</th>\n",
              "      <td>220</td>\n",
              "      <td>NaN</td>\n",
              "      <td>2542.392402</td>\n",
              "      <td>2009</td>\n",
              "      <td>16.912736</td>\n",
              "    </tr>\n",
              "    <tr>\n",
              "      <th>4</th>\n",
              "      <td>210</td>\n",
              "      <td>140.0</td>\n",
              "      <td>3460.870990</td>\n",
              "      <td>2009</td>\n",
              "      <td>12.488369</td>\n",
              "    </tr>\n",
              "    <tr>\n",
              "      <th>5</th>\n",
              "      <td>190</td>\n",
              "      <td>NaN</td>\n",
              "      <td>2484.883986</td>\n",
              "      <td>2008</td>\n",
              "      <td>17.271818</td>\n",
              "    </tr>\n",
              "    <tr>\n",
              "      <th>6</th>\n",
              "      <td>240</td>\n",
              "      <td>127.0</td>\n",
              "      <td>3006.542287</td>\n",
              "      <td>2012</td>\n",
              "      <td>13.210412</td>\n",
              "    </tr>\n",
              "    <tr>\n",
              "      <th>7</th>\n",
              "      <td>150</td>\n",
              "      <td>239.0</td>\n",
              "      <td>3638.657780</td>\n",
              "      <td>2020</td>\n",
              "      <td>12.848884</td>\n",
              "    </tr>\n",
              "    <tr>\n",
              "      <th>8</th>\n",
              "      <td>250</td>\n",
              "      <td>174.0</td>\n",
              "      <td>2714.219310</td>\n",
              "      <td>2016</td>\n",
              "      <td>16.823554</td>\n",
              "    </tr>\n",
              "    <tr>\n",
              "      <th>9</th>\n",
              "      <td>150</td>\n",
              "      <td>123.0</td>\n",
              "      <td>3509.036569</td>\n",
              "      <td>2005</td>\n",
              "      <td>12.298355</td>\n",
              "    </tr>\n",
              "  </tbody>\n",
              "</table>\n",
              "</div>\n",
              "    <div class=\"colab-df-buttons\">\n",
              "\n",
              "  <div class=\"colab-df-container\">\n",
              "    <button class=\"colab-df-convert\" onclick=\"convertToInteractive('df-f13815af-075f-404b-98ad-a0ab18708749')\"\n",
              "            title=\"Convert this dataframe to an interactive table.\"\n",
              "            style=\"display:none;\">\n",
              "\n",
              "  <svg xmlns=\"http://www.w3.org/2000/svg\" height=\"24px\" viewBox=\"0 -960 960 960\">\n",
              "    <path d=\"M120-120v-720h720v720H120Zm60-500h600v-160H180v160Zm220 220h160v-160H400v160Zm0 220h160v-160H400v160ZM180-400h160v-160H180v160Zm440 0h160v-160H620v160ZM180-180h160v-160H180v160Zm440 0h160v-160H620v160Z\"/>\n",
              "  </svg>\n",
              "    </button>\n",
              "\n",
              "  <style>\n",
              "    .colab-df-container {\n",
              "      display:flex;\n",
              "      gap: 12px;\n",
              "    }\n",
              "\n",
              "    .colab-df-convert {\n",
              "      background-color: #E8F0FE;\n",
              "      border: none;\n",
              "      border-radius: 50%;\n",
              "      cursor: pointer;\n",
              "      display: none;\n",
              "      fill: #1967D2;\n",
              "      height: 32px;\n",
              "      padding: 0 0 0 0;\n",
              "      width: 32px;\n",
              "    }\n",
              "\n",
              "    .colab-df-convert:hover {\n",
              "      background-color: #E2EBFA;\n",
              "      box-shadow: 0px 1px 2px rgba(60, 64, 67, 0.3), 0px 1px 3px 1px rgba(60, 64, 67, 0.15);\n",
              "      fill: #174EA6;\n",
              "    }\n",
              "\n",
              "    .colab-df-buttons div {\n",
              "      margin-bottom: 4px;\n",
              "    }\n",
              "\n",
              "    [theme=dark] .colab-df-convert {\n",
              "      background-color: #3B4455;\n",
              "      fill: #D2E3FC;\n",
              "    }\n",
              "\n",
              "    [theme=dark] .colab-df-convert:hover {\n",
              "      background-color: #434B5C;\n",
              "      box-shadow: 0px 1px 3px 1px rgba(0, 0, 0, 0.15);\n",
              "      filter: drop-shadow(0px 1px 2px rgba(0, 0, 0, 0.3));\n",
              "      fill: #FFFFFF;\n",
              "    }\n",
              "  </style>\n",
              "\n",
              "    <script>\n",
              "      const buttonEl =\n",
              "        document.querySelector('#df-f13815af-075f-404b-98ad-a0ab18708749 button.colab-df-convert');\n",
              "      buttonEl.style.display =\n",
              "        google.colab.kernel.accessAllowed ? 'block' : 'none';\n",
              "\n",
              "      async function convertToInteractive(key) {\n",
              "        const element = document.querySelector('#df-f13815af-075f-404b-98ad-a0ab18708749');\n",
              "        const dataTable =\n",
              "          await google.colab.kernel.invokeFunction('convertToInteractive',\n",
              "                                                    [key], {});\n",
              "        if (!dataTable) return;\n",
              "\n",
              "        const docLinkHtml = 'Like what you see? Visit the ' +\n",
              "          '<a target=\"_blank\" href=https://colab.research.google.com/notebooks/data_table.ipynb>data table notebook</a>'\n",
              "          + ' to learn more about interactive tables.';\n",
              "        element.innerHTML = '';\n",
              "        dataTable['output_type'] = 'display_data';\n",
              "        await google.colab.output.renderOutput(dataTable, element);\n",
              "        const docLink = document.createElement('div');\n",
              "        docLink.innerHTML = docLinkHtml;\n",
              "        element.appendChild(docLink);\n",
              "      }\n",
              "    </script>\n",
              "  </div>\n",
              "\n",
              "\n",
              "    <div id=\"df-b1769a27-6102-4065-af16-6dc381f3190c\">\n",
              "      <button class=\"colab-df-quickchart\" onclick=\"quickchart('df-b1769a27-6102-4065-af16-6dc381f3190c')\"\n",
              "                title=\"Suggest charts\"\n",
              "                style=\"display:none;\">\n",
              "\n",
              "<svg xmlns=\"http://www.w3.org/2000/svg\" height=\"24px\"viewBox=\"0 0 24 24\"\n",
              "     width=\"24px\">\n",
              "    <g>\n",
              "        <path d=\"M19 3H5c-1.1 0-2 .9-2 2v14c0 1.1.9 2 2 2h14c1.1 0 2-.9 2-2V5c0-1.1-.9-2-2-2zM9 17H7v-7h2v7zm4 0h-2V7h2v10zm4 0h-2v-4h2v4z\"/>\n",
              "    </g>\n",
              "</svg>\n",
              "      </button>\n",
              "\n",
              "<style>\n",
              "  .colab-df-quickchart {\n",
              "      --bg-color: #E8F0FE;\n",
              "      --fill-color: #1967D2;\n",
              "      --hover-bg-color: #E2EBFA;\n",
              "      --hover-fill-color: #174EA6;\n",
              "      --disabled-fill-color: #AAA;\n",
              "      --disabled-bg-color: #DDD;\n",
              "  }\n",
              "\n",
              "  [theme=dark] .colab-df-quickchart {\n",
              "      --bg-color: #3B4455;\n",
              "      --fill-color: #D2E3FC;\n",
              "      --hover-bg-color: #434B5C;\n",
              "      --hover-fill-color: #FFFFFF;\n",
              "      --disabled-bg-color: #3B4455;\n",
              "      --disabled-fill-color: #666;\n",
              "  }\n",
              "\n",
              "  .colab-df-quickchart {\n",
              "    background-color: var(--bg-color);\n",
              "    border: none;\n",
              "    border-radius: 50%;\n",
              "    cursor: pointer;\n",
              "    display: none;\n",
              "    fill: var(--fill-color);\n",
              "    height: 32px;\n",
              "    padding: 0;\n",
              "    width: 32px;\n",
              "  }\n",
              "\n",
              "  .colab-df-quickchart:hover {\n",
              "    background-color: var(--hover-bg-color);\n",
              "    box-shadow: 0 1px 2px rgba(60, 64, 67, 0.3), 0 1px 3px 1px rgba(60, 64, 67, 0.15);\n",
              "    fill: var(--button-hover-fill-color);\n",
              "  }\n",
              "\n",
              "  .colab-df-quickchart-complete:disabled,\n",
              "  .colab-df-quickchart-complete:disabled:hover {\n",
              "    background-color: var(--disabled-bg-color);\n",
              "    fill: var(--disabled-fill-color);\n",
              "    box-shadow: none;\n",
              "  }\n",
              "\n",
              "  .colab-df-spinner {\n",
              "    border: 2px solid var(--fill-color);\n",
              "    border-color: transparent;\n",
              "    border-bottom-color: var(--fill-color);\n",
              "    animation:\n",
              "      spin 1s steps(1) infinite;\n",
              "  }\n",
              "\n",
              "  @keyframes spin {\n",
              "    0% {\n",
              "      border-color: transparent;\n",
              "      border-bottom-color: var(--fill-color);\n",
              "      border-left-color: var(--fill-color);\n",
              "    }\n",
              "    20% {\n",
              "      border-color: transparent;\n",
              "      border-left-color: var(--fill-color);\n",
              "      border-top-color: var(--fill-color);\n",
              "    }\n",
              "    30% {\n",
              "      border-color: transparent;\n",
              "      border-left-color: var(--fill-color);\n",
              "      border-top-color: var(--fill-color);\n",
              "      border-right-color: var(--fill-color);\n",
              "    }\n",
              "    40% {\n",
              "      border-color: transparent;\n",
              "      border-right-color: var(--fill-color);\n",
              "      border-top-color: var(--fill-color);\n",
              "    }\n",
              "    60% {\n",
              "      border-color: transparent;\n",
              "      border-right-color: var(--fill-color);\n",
              "    }\n",
              "    80% {\n",
              "      border-color: transparent;\n",
              "      border-right-color: var(--fill-color);\n",
              "      border-bottom-color: var(--fill-color);\n",
              "    }\n",
              "    90% {\n",
              "      border-color: transparent;\n",
              "      border-bottom-color: var(--fill-color);\n",
              "    }\n",
              "  }\n",
              "</style>\n",
              "\n",
              "      <script>\n",
              "        async function quickchart(key) {\n",
              "          const quickchartButtonEl =\n",
              "            document.querySelector('#' + key + ' button');\n",
              "          quickchartButtonEl.disabled = true;  // To prevent multiple clicks.\n",
              "          quickchartButtonEl.classList.add('colab-df-spinner');\n",
              "          try {\n",
              "            const charts = await google.colab.kernel.invokeFunction(\n",
              "                'suggestCharts', [key], {});\n",
              "          } catch (error) {\n",
              "            console.error('Error during call to suggestCharts:', error);\n",
              "          }\n",
              "          quickchartButtonEl.classList.remove('colab-df-spinner');\n",
              "          quickchartButtonEl.classList.add('colab-df-quickchart-complete');\n",
              "        }\n",
              "        (() => {\n",
              "          let quickchartButtonEl =\n",
              "            document.querySelector('#df-b1769a27-6102-4065-af16-6dc381f3190c button');\n",
              "          quickchartButtonEl.style.display =\n",
              "            google.colab.kernel.accessAllowed ? 'block' : 'none';\n",
              "        })();\n",
              "      </script>\n",
              "    </div>\n",
              "\n",
              "    </div>\n",
              "  </div>\n"
            ],
            "application/vnd.google.colaboratory.intrinsic+json": {
              "type": "dataframe",
              "variable_name": "df",
              "summary": "{\n  \"name\": \"df\",\n  \"rows\": 9704,\n  \"fields\": [\n    {\n      \"column\": \"engine_displacement\",\n      \"properties\": {\n        \"dtype\": \"number\",\n        \"std\": 49,\n        \"min\": 10,\n        \"max\": 380,\n        \"num_unique_values\": 36,\n        \"samples\": [\n          30,\n          260,\n          90\n        ],\n        \"semantic_type\": \"\",\n        \"description\": \"\"\n      }\n    },\n    {\n      \"column\": \"horsepower\",\n      \"properties\": {\n        \"dtype\": \"number\",\n        \"std\": 29.879555200339446,\n        \"min\": 37.0,\n        \"max\": 271.0,\n        \"num_unique_values\": 192,\n        \"samples\": [\n          128.0,\n          82.0,\n          167.0\n        ],\n        \"semantic_type\": \"\",\n        \"description\": \"\"\n      }\n    },\n    {\n      \"column\": \"vehicle_weight\",\n      \"properties\": {\n        \"dtype\": \"number\",\n        \"std\": 497.8948600311838,\n        \"min\": 952.6817606436496,\n        \"max\": 4739.077089392099,\n        \"num_unique_values\": 9704,\n        \"samples\": [\n          2535.8875912388694,\n          2741.1704843893167,\n          2471.8802372627765\n        ],\n        \"semantic_type\": \"\",\n        \"description\": \"\"\n      }\n    },\n    {\n      \"column\": \"model_year\",\n      \"properties\": {\n        \"dtype\": \"number\",\n        \"std\": 6,\n        \"min\": 2000,\n        \"max\": 2023,\n        \"num_unique_values\": 24,\n        \"samples\": [\n          2005,\n          2002,\n          2003\n        ],\n        \"semantic_type\": \"\",\n        \"description\": \"\"\n      }\n    },\n    {\n      \"column\": \"fuel_efficiency_mpg\",\n      \"properties\": {\n        \"dtype\": \"number\",\n        \"std\": 2.5564677028974288,\n        \"min\": 6.200970533392815,\n        \"max\": 25.96722204888372,\n        \"num_unique_values\": 9704,\n        \"samples\": [\n          16.642943419221385,\n          16.298377150953442,\n          18.59182197290521\n        ],\n        \"semantic_type\": \"\",\n        \"description\": \"\"\n      }\n    }\n  ]\n}"
            }
          },
          "metadata": {},
          "execution_count": 49
        }
      ]
    },
    {
      "cell_type": "code",
      "source": [
        "df.info()"
      ],
      "metadata": {
        "colab": {
          "base_uri": "https://localhost:8080/"
        },
        "id": "8RLzJWmRRR6T",
        "outputId": "44d65672-f5ba-43c7-b607-b49320e23a4e"
      },
      "execution_count": 50,
      "outputs": [
        {
          "output_type": "stream",
          "name": "stdout",
          "text": [
            "<class 'pandas.core.frame.DataFrame'>\n",
            "RangeIndex: 9704 entries, 0 to 9703\n",
            "Data columns (total 5 columns):\n",
            " #   Column               Non-Null Count  Dtype  \n",
            "---  ------               --------------  -----  \n",
            " 0   engine_displacement  9704 non-null   int64  \n",
            " 1   horsepower           8996 non-null   float64\n",
            " 2   vehicle_weight       9704 non-null   float64\n",
            " 3   model_year           9704 non-null   int64  \n",
            " 4   fuel_efficiency_mpg  9704 non-null   float64\n",
            "dtypes: float64(3), int64(2)\n",
            "memory usage: 379.2 KB\n"
          ]
        }
      ]
    },
    {
      "cell_type": "markdown",
      "source": [
        "## Exploratory Data Analysis"
      ],
      "metadata": {
        "id": "wj9xuCTnUMJD"
      }
    },
    {
      "cell_type": "code",
      "source": [
        "for col in df.columns:\n",
        "  print(f'{col}: {df[col].unique()[:5]}')\n",
        "  print(df[col].nunique())\n",
        "  print()"
      ],
      "metadata": {
        "colab": {
          "base_uri": "https://localhost:8080/"
        },
        "id": "yg71p4m6Ui0l",
        "outputId": "aea338d4-064a-4be2-e38e-7b7a436c613e"
      },
      "execution_count": 51,
      "outputs": [
        {
          "output_type": "stream",
          "name": "stdout",
          "text": [
            "engine_displacement: [170 130 220 210 190]\n",
            "36\n",
            "\n",
            "horsepower: [159.  97.  78.  nan 140.]\n",
            "192\n",
            "\n",
            "vehicle_weight: [3413.43375861 3149.66493422 3079.03899737 2542.39240183 3460.87098999]\n",
            "9704\n",
            "\n",
            "model_year: [2003 2007 2018 2009 2008]\n",
            "24\n",
            "\n",
            "fuel_efficiency_mpg: [13.23172891 13.68821744 14.246341   16.9127356  12.48836912]\n",
            "9704\n",
            "\n"
          ]
        }
      ]
    },
    {
      "cell_type": "code",
      "source": [
        "sns.histplot(df['fuel_efficiency_mpg'], bins = 50)"
      ],
      "metadata": {
        "colab": {
          "base_uri": "https://localhost:8080/",
          "height": 467
        },
        "id": "_Lbi-_U-Vm_W",
        "outputId": "98bca792-3a29-4714-fae9-9f6f4fc6c097"
      },
      "execution_count": 52,
      "outputs": [
        {
          "output_type": "execute_result",
          "data": {
            "text/plain": [
              "<Axes: xlabel='fuel_efficiency_mpg', ylabel='Count'>"
            ]
          },
          "metadata": {},
          "execution_count": 52
        },
        {
          "output_type": "display_data",
          "data": {
            "text/plain": [
              "<Figure size 640x480 with 1 Axes>"
            ],
            "image/png": "[encoded data removed]"
          },
          "metadata": {}
        }
      ]
    },
    {
      "cell_type": "code",
      "source": [
        "mpg_logs = np.log1p(df['fuel_efficiency_mpg'])"
      ],
      "metadata": {
        "id": "0MB5W1UsWbuA"
      },
      "execution_count": 53,
      "outputs": []
    },
    {
      "cell_type": "code",
      "source": [
        "sns.histplot(mpg_logs, bins = 50)"
      ],
      "metadata": {
        "colab": {
          "base_uri": "https://localhost:8080/",
          "height": 467
        },
        "id": "NXY2kRXqWjKU",
        "outputId": "2b7011bb-5455-4c30-cf96-1b3400adc60e"
      },
      "execution_count": 54,
      "outputs": [
        {
          "output_type": "execute_result",
          "data": {
            "text/plain": [
              "<Axes: xlabel='fuel_efficiency_mpg', ylabel='Count'>"
            ]
          },
          "metadata": {},
          "execution_count": 54
        },
        {
          "output_type": "display_data",
          "data": {
            "text/plain": [
              "<Figure size 640x480 with 1 Axes>"
            ],
            "image/png": "[encoded data removed]"
          },
          "metadata": {}
        }
      ]
    },
    {
      "cell_type": "markdown",
      "source": [
        "Directly plotting gives more of a normal distribution plot than the log plot"
      ],
      "metadata": {
        "id": "XumqEGISWsSJ"
      }
    },
    {
      "cell_type": "markdown",
      "source": [
        "### Missing values"
      ],
      "metadata": {
        "id": "unwhNwcRXAwB"
      }
    },
    {
      "cell_type": "code",
      "source": [
        "df.columns[df.isnull().any()]"
      ],
      "metadata": {
        "colab": {
          "base_uri": "https://localhost:8080/"
        },
        "id": "kok_0jpjRXaq",
        "outputId": "0d0f9789-fd26-4b19-d5c6-289ebe99e5d3"
      },
      "execution_count": 55,
      "outputs": [
        {
          "output_type": "execute_result",
          "data": {
            "text/plain": [
              "Index(['horsepower'], dtype='object')"
            ]
          },
          "metadata": {},
          "execution_count": 55
        }
      ]
    },
    {
      "cell_type": "code",
      "source": [
        "df.isnull().sum()"
      ],
      "metadata": {
        "colab": {
          "base_uri": "https://localhost:8080/",
          "height": 238
        },
        "id": "-qNmCX0xW8Hs",
        "outputId": "814856a0-5d31-4ffa-ba19-a457ea8cc297"
      },
      "execution_count": 56,
      "outputs": [
        {
          "output_type": "execute_result",
          "data": {
            "text/plain": [
              "engine_displacement      0\n",
              "horsepower             708\n",
              "vehicle_weight           0\n",
              "model_year               0\n",
              "fuel_efficiency_mpg      0\n",
              "dtype: int64"
            ],
            "text/html": [
              "<div>\n",
              "<style scoped>\n",
              "    .dataframe tbody tr th:only-of-type {\n",
              "        vertical-align: middle;\n",
              "    }\n",
              "\n",
              "    .dataframe tbody tr th {\n",
              "        vertical-align: top;\n",
              "    }\n",
              "\n",
              "    .dataframe thead th {\n",
              "        text-align: right;\n",
              "    }\n",
              "</style>\n",
              "<table border=\"1\" class=\"dataframe\">\n",
              "  <thead>\n",
              "    <tr style=\"text-align: right;\">\n",
              "      <th></th>\n",
              "      <th>0</th>\n",
              "    </tr>\n",
              "  </thead>\n",
              "  <tbody>\n",
              "    <tr>\n",
              "      <th>engine_displacement</th>\n",
              "      <td>0</td>\n",
              "    </tr>\n",
              "    <tr>\n",
              "      <th>horsepower</th>\n",
              "      <td>708</td>\n",
              "    </tr>\n",
              "    <tr>\n",
              "      <th>vehicle_weight</th>\n",
              "      <td>0</td>\n",
              "    </tr>\n",
              "    <tr>\n",
              "      <th>model_year</th>\n",
              "      <td>0</td>\n",
              "    </tr>\n",
              "    <tr>\n",
              "      <th>fuel_efficiency_mpg</th>\n",
              "      <td>0</td>\n",
              "    </tr>\n",
              "  </tbody>\n",
              "</table>\n",
              "</div><br><label><b>dtype:</b> int64</label>"
            ]
          },
          "metadata": {},
          "execution_count": 56
        }
      ]
    },
    {
      "cell_type": "code",
      "source": [
        "df['horsepower'].median()"
      ],
      "metadata": {
        "colab": {
          "base_uri": "https://localhost:8080/"
        },
        "id": "svG8mfzxRb0a",
        "outputId": "8a727c9f-95f5-4385-bc67-71396696bc7b"
      },
      "execution_count": 57,
      "outputs": [
        {
          "output_type": "execute_result",
          "data": {
            "text/plain": [
              "149.0"
            ]
          },
          "metadata": {},
          "execution_count": 57
        }
      ]
    },
    {
      "cell_type": "code",
      "source": [
        "df = df.fillna(0)"
      ],
      "metadata": {
        "id": "Mmq6SU-Bm3tE"
      },
      "execution_count": 58,
      "outputs": []
    },
    {
      "cell_type": "markdown",
      "source": [
        "# Modeling"
      ],
      "metadata": {
        "id": "rknAoRGQXopc"
      }
    },
    {
      "cell_type": "markdown",
      "source": [
        "### Splitting the data"
      ],
      "metadata": {
        "id": "g1FbKJDjXz_9"
      }
    },
    {
      "cell_type": "code",
      "source": [
        "df_shuffled = df.sample(frac=1, random_state=42).reset_index(drop=True)"
      ],
      "metadata": {
        "id": "XASDNMf6SKw9"
      },
      "execution_count": 59,
      "outputs": []
    },
    {
      "cell_type": "code",
      "source": [
        "df_train, df_temp = train_test_split(df_shuffled, test_size=0.4, random_state=42)"
      ],
      "metadata": {
        "id": "fT6N_2bYSc05"
      },
      "execution_count": 60,
      "outputs": []
    },
    {
      "cell_type": "code",
      "source": [
        "df_val, df_test = train_test_split(df_temp, test_size=0.5, random_state=42)"
      ],
      "metadata": {
        "id": "26L49GaTSgFP"
      },
      "execution_count": 61,
      "outputs": []
    },
    {
      "cell_type": "code",
      "source": [
        "df_train = df_train.reset_index(drop=True)\n",
        "df_val = df_val.reset_index(drop=True)\n",
        "df_test = df_test.reset_index(drop=True)"
      ],
      "metadata": {
        "id": "KhK4TDDYX_kE"
      },
      "execution_count": 62,
      "outputs": []
    },
    {
      "cell_type": "code",
      "source": [
        "df_train.head()"
      ],
      "metadata": {
        "colab": {
          "base_uri": "https://localhost:8080/",
          "height": 204
        },
        "id": "PVw9I1F3YCE_",
        "outputId": "6c035197-81ed-4396-856f-9fc4c3a85355"
      },
      "execution_count": 63,
      "outputs": [
        {
          "output_type": "execute_result",
          "data": {
            "text/plain": [
              "   engine_displacement  horsepower  vehicle_weight  model_year  \\\n",
              "0                  120        98.0     2152.640871        2008   \n",
              "1                  190       140.0     2905.379446        2019   \n",
              "2                  170        96.0     3782.290474        2014   \n",
              "3                  240       137.0     3640.501744        2007   \n",
              "4                  240       182.0     3003.041960        2022   \n",
              "\n",
              "   fuel_efficiency_mpg  \n",
              "0            18.830833  \n",
              "1            14.829684  \n",
              "2            10.316109  \n",
              "3            12.173032  \n",
              "4            15.141689  "
            ],
            "text/html": [
              "\n",
              "  <div id=\"df-2d26df34-fe6c-4d6b-9cab-5348683e0ddf\" class=\"colab-df-container\">\n",
              "    <div>\n",
              "<style scoped>\n",
              "    .dataframe tbody tr th:only-of-type {\n",
              "        vertical-align: middle;\n",
              "    }\n",
              "\n",
              "    .dataframe tbody tr th {\n",
              "        vertical-align: top;\n",
              "    }\n",
              "\n",
              "    .dataframe thead th {\n",
              "        text-align: right;\n",
              "    }\n",
              "</style>\n",
              "<table border=\"1\" class=\"dataframe\">\n",
              "  <thead>\n",
              "    <tr style=\"text-align: right;\">\n",
              "      <th></th>\n",
              "      <th>engine_displacement</th>\n",
              "      <th>horsepower</th>\n",
              "      <th>vehicle_weight</th>\n",
              "      <th>model_year</th>\n",
              "      <th>fuel_efficiency_mpg</th>\n",
              "    </tr>\n",
              "  </thead>\n",
              "  <tbody>\n",
              "    <tr>\n",
              "      <th>0</th>\n",
              "      <td>120</td>\n",
              "      <td>98.0</td>\n",
              "      <td>2152.640871</td>\n",
              "      <td>2008</td>\n",
              "      <td>18.830833</td>\n",
              "    </tr>\n",
              "    <tr>\n",
              "      <th>1</th>\n",
              "      <td>190</td>\n",
              "      <td>140.0</td>\n",
              "      <td>2905.379446</td>\n",
              "      <td>2019</td>\n",
              "      <td>14.829684</td>\n",
              "    </tr>\n",
              "    <tr>\n",
              "      <th>2</th>\n",
              "      <td>170</td>\n",
              "      <td>96.0</td>\n",
              "      <td>3782.290474</td>\n",
              "      <td>2014</td>\n",
              "      <td>10.316109</td>\n",
              "    </tr>\n",
              "    <tr>\n",
              "      <th>3</th>\n",
              "      <td>240</td>\n",
              "      <td>137.0</td>\n",
              "      <td>3640.501744</td>\n",
              "      <td>2007</td>\n",
              "      <td>12.173032</td>\n",
              "    </tr>\n",
              "    <tr>\n",
              "      <th>4</th>\n",
              "      <td>240</td>\n",
              "      <td>182.0</td>\n",
              "      <td>3003.041960</td>\n",
              "      <td>2022</td>\n",
              "      <td>15.141689</td>\n",
              "    </tr>\n",
              "  </tbody>\n",
              "</table>\n",
              "</div>\n",
              "    <div class=\"colab-df-buttons\">\n",
              "\n",
              "  <div class=\"colab-df-container\">\n",
              "    <button class=\"colab-df-convert\" onclick=\"convertToInteractive('df-2d26df34-fe6c-4d6b-9cab-5348683e0ddf')\"\n",
              "            title=\"Convert this dataframe to an interactive table.\"\n",
              "            style=\"display:none;\">\n",
              "\n",
              "  <svg xmlns=\"http://www.w3.org/2000/svg\" height=\"24px\" viewBox=\"0 -960 960 960\">\n",
              "    <path d=\"M120-120v-720h720v720H120Zm60-500h600v-160H180v160Zm220 220h160v-160H400v160Zm0 220h160v-160H400v160ZM180-400h160v-160H180v160Zm440 0h160v-160H620v160ZM180-180h160v-160H180v160Zm440 0h160v-160H620v160Z\"/>\n",
              "  </svg>\n",
              "    </button>\n",
              "\n",
              "  <style>\n",
              "    .colab-df-container {\n",
              "      display:flex;\n",
              "      gap: 12px;\n",
              "    }\n",
              "\n",
              "    .colab-df-convert {\n",
              "      background-color: #E8F0FE;\n",
              "      border: none;\n",
              "      border-radius: 50%;\n",
              "      cursor: pointer;\n",
              "      display: none;\n",
              "      fill: #1967D2;\n",
              "      height: 32px;\n",
              "      padding: 0 0 0 0;\n",
              "      width: 32px;\n",
              "    }\n",
              "\n",
              "    .colab-df-convert:hover {\n",
              "      background-color: #E2EBFA;\n",
              "      box-shadow: 0px 1px 2px rgba(60, 64, 67, 0.3), 0px 1px 3px 1px rgba(60, 64, 67, 0.15);\n",
              "      fill: #174EA6;\n",
              "    }\n",
              "\n",
              "    .colab-df-buttons div {\n",
              "      margin-bottom: 4px;\n",
              "    }\n",
              "\n",
              "    [theme=dark] .colab-df-convert {\n",
              "      background-color: #3B4455;\n",
              "      fill: #D2E3FC;\n",
              "    }\n",
              "\n",
              "    [theme=dark] .colab-df-convert:hover {\n",
              "      background-color: #434B5C;\n",
              "      box-shadow: 0px 1px 3px 1px rgba(0, 0, 0, 0.15);\n",
              "      filter: drop-shadow(0px 1px 2px rgba(0, 0, 0, 0.3));\n",
              "      fill: #FFFFFF;\n",
              "    }\n",
              "  </style>\n",
              "\n",
              "    <script>\n",
              "      const buttonEl =\n",
              "        document.querySelector('#df-2d26df34-fe6c-4d6b-9cab-5348683e0ddf button.colab-df-convert');\n",
              "      buttonEl.style.display =\n",
              "        google.colab.kernel.accessAllowed ? 'block' : 'none';\n",
              "\n",
              "      async function convertToInteractive(key) {\n",
              "        const element = document.querySelector('#df-2d26df34-fe6c-4d6b-9cab-5348683e0ddf');\n",
              "        const dataTable =\n",
              "          await google.colab.kernel.invokeFunction('convertToInteractive',\n",
              "                                                    [key], {});\n",
              "        if (!dataTable) return;\n",
              "\n",
              "        const docLinkHtml = 'Like what you see? Visit the ' +\n",
              "          '<a target=\"_blank\" href=https://colab.research.google.com/notebooks/data_table.ipynb>data table notebook</a>'\n",
              "          + ' to learn more about interactive tables.';\n",
              "        element.innerHTML = '';\n",
              "        dataTable['output_type'] = 'display_data';\n",
              "        await google.colab.output.renderOutput(dataTable, element);\n",
              "        const docLink = document.createElement('div');\n",
              "        docLink.innerHTML = docLinkHtml;\n",
              "        element.appendChild(docLink);\n",
              "      }\n",
              "    </script>\n",
              "  </div>\n",
              "\n",
              "\n",
              "    <div id=\"df-184722be-a5e9-4dee-9e75-c79a1b3a81e8\">\n",
              "      <button class=\"colab-df-quickchart\" onclick=\"quickchart('df-184722be-a5e9-4dee-9e75-c79a1b3a81e8')\"\n",
              "                title=\"Suggest charts\"\n",
              "                style=\"display:none;\">\n",
              "\n",
              "<svg xmlns=\"http://www.w3.org/2000/svg\" height=\"24px\"viewBox=\"0 0 24 24\"\n",
              "     width=\"24px\">\n",
              "    <g>\n",
              "        <path d=\"M19 3H5c-1.1 0-2 .9-2 2v14c0 1.1.9 2 2 2h14c1.1 0 2-.9 2-2V5c0-1.1-.9-2-2-2zM9 17H7v-7h2v7zm4 0h-2V7h2v10zm4 0h-2v-4h2v4z\"/>\n",
              "    </g>\n",
              "</svg>\n",
              "      </button>\n",
              "\n",
              "<style>\n",
              "  .colab-df-quickchart {\n",
              "      --bg-color: #E8F0FE;\n",
              "      --fill-color: #1967D2;\n",
              "      --hover-bg-color: #E2EBFA;\n",
              "      --hover-fill-color: #174EA6;\n",
              "      --disabled-fill-color: #AAA;\n",
              "      --disabled-bg-color: #DDD;\n",
              "  }\n",
              "\n",
              "  [theme=dark] .colab-df-quickchart {\n",
              "      --bg-color: #3B4455;\n",
              "      --fill-color: #D2E3FC;\n",
              "      --hover-bg-color: #434B5C;\n",
              "      --hover-fill-color: #FFFFFF;\n",
              "      --disabled-bg-color: #3B4455;\n",
              "      --disabled-fill-color: #666;\n",
              "  }\n",
              "\n",
              "  .colab-df-quickchart {\n",
              "    background-color: var(--bg-color);\n",
              "    border: none;\n",
              "    border-radius: 50%;\n",
              "    cursor: pointer;\n",
              "    display: none;\n",
              "    fill: var(--fill-color);\n",
              "    height: 32px;\n",
              "    padding: 0;\n",
              "    width: 32px;\n",
              "  }\n",
              "\n",
              "  .colab-df-quickchart:hover {\n",
              "    background-color: var(--hover-bg-color);\n",
              "    box-shadow: 0 1px 2px rgba(60, 64, 67, 0.3), 0 1px 3px 1px rgba(60, 64, 67, 0.15);\n",
              "    fill: var(--button-hover-fill-color);\n",
              "  }\n",
              "\n",
              "  .colab-df-quickchart-complete:disabled,\n",
              "  .colab-df-quickchart-complete:disabled:hover {\n",
              "    background-color: var(--disabled-bg-color);\n",
              "    fill: var(--disabled-fill-color);\n",
              "    box-shadow: none;\n",
              "  }\n",
              "\n",
              "  .colab-df-spinner {\n",
              "    border: 2px solid var(--fill-color);\n",
              "    border-color: transparent;\n",
              "    border-bottom-color: var(--fill-color);\n",
              "    animation:\n",
              "      spin 1s steps(1) infinite;\n",
              "  }\n",
              "\n",
              "  @keyframes spin {\n",
              "    0% {\n",
              "      border-color: transparent;\n",
              "      border-bottom-color: var(--fill-color);\n",
              "      border-left-color: var(--fill-color);\n",
              "    }\n",
              "    20% {\n",
              "      border-color: transparent;\n",
              "      border-left-color: var(--fill-color);\n",
              "      border-top-color: var(--fill-color);\n",
              "    }\n",
              "    30% {\n",
              "      border-color: transparent;\n",
              "      border-left-color: var(--fill-color);\n",
              "      border-top-color: var(--fill-color);\n",
              "      border-right-color: var(--fill-color);\n",
              "    }\n",
              "    40% {\n",
              "      border-color: transparent;\n",
              "      border-right-color: var(--fill-color);\n",
              "      border-top-color: var(--fill-color);\n",
              "    }\n",
              "    60% {\n",
              "      border-color: transparent;\n",
              "      border-right-color: var(--fill-color);\n",
              "    }\n",
              "    80% {\n",
              "      border-color: transparent;\n",
              "      border-right-color: var(--fill-color);\n",
              "      border-bottom-color: var(--fill-color);\n",
              "    }\n",
              "    90% {\n",
              "      border-color: transparent;\n",
              "      border-bottom-color: var(--fill-color);\n",
              "    }\n",
              "  }\n",
              "</style>\n",
              "\n",
              "      <script>\n",
              "        async function quickchart(key) {\n",
              "          const quickchartButtonEl =\n",
              "            document.querySelector('#' + key + ' button');\n",
              "          quickchartButtonEl.disabled = true;  // To prevent multiple clicks.\n",
              "          quickchartButtonEl.classList.add('colab-df-spinner');\n",
              "          try {\n",
              "            const charts = await google.colab.kernel.invokeFunction(\n",
              "                'suggestCharts', [key], {});\n",
              "          } catch (error) {\n",
              "            console.error('Error during call to suggestCharts:', error);\n",
              "          }\n",
              "          quickchartButtonEl.classList.remove('colab-df-spinner');\n",
              "          quickchartButtonEl.classList.add('colab-df-quickchart-complete');\n",
              "        }\n",
              "        (() => {\n",
              "          let quickchartButtonEl =\n",
              "            document.querySelector('#df-184722be-a5e9-4dee-9e75-c79a1b3a81e8 button');\n",
              "          quickchartButtonEl.style.display =\n",
              "            google.colab.kernel.accessAllowed ? 'block' : 'none';\n",
              "        })();\n",
              "      </script>\n",
              "    </div>\n",
              "\n",
              "    </div>\n",
              "  </div>\n"
            ],
            "application/vnd.google.colaboratory.intrinsic+json": {
              "type": "dataframe",
              "variable_name": "df_train",
              "summary": "{\n  \"name\": \"df_train\",\n  \"rows\": 5822,\n  \"fields\": [\n    {\n      \"column\": \"engine_displacement\",\n      \"properties\": {\n        \"dtype\": \"number\",\n        \"std\": 49,\n        \"min\": 30,\n        \"max\": 380,\n        \"num_unique_values\": 34,\n        \"samples\": [\n          130,\n          160,\n          50\n        ],\n        \"semantic_type\": \"\",\n        \"description\": \"\"\n      }\n    },\n    {\n      \"column\": \"horsepower\",\n      \"properties\": {\n        \"dtype\": \"number\",\n        \"std\": 48.28186392527212,\n        \"min\": 0.0,\n        \"max\": 271.0,\n        \"num_unique_values\": 183,\n        \"samples\": [\n          177.0,\n          188.0,\n          69.0\n        ],\n        \"semantic_type\": \"\",\n        \"description\": \"\"\n      }\n    },\n    {\n      \"column\": \"vehicle_weight\",\n      \"properties\": {\n        \"dtype\": \"number\",\n        \"std\": 498.0615878403843,\n        \"min\": 1223.2982259974249,\n        \"max\": 4739.077089392099,\n        \"num_unique_values\": 5822,\n        \"samples\": [\n          2827.603275280178,\n          2894.3025493224463,\n          2723.632909191728\n        ],\n        \"semantic_type\": \"\",\n        \"description\": \"\"\n      }\n    },\n    {\n      \"column\": \"model_year\",\n      \"properties\": {\n        \"dtype\": \"number\",\n        \"std\": 6,\n        \"min\": 2000,\n        \"max\": 2023,\n        \"num_unique_values\": 24,\n        \"samples\": [\n          2021,\n          2012,\n          2008\n        ],\n        \"semantic_type\": \"\",\n        \"description\": \"\"\n      }\n    },\n    {\n      \"column\": \"fuel_efficiency_mpg\",\n      \"properties\": {\n        \"dtype\": \"number\",\n        \"std\": 2.559929499934726,\n        \"min\": 6.695482767757437,\n        \"max\": 23.759122836520497,\n        \"num_unique_values\": 5822,\n        \"samples\": [\n          15.450811918311,\n          15.69849794362206,\n          16.190595647166607\n        ],\n        \"semantic_type\": \"\",\n        \"description\": \"\"\n      }\n    }\n  ]\n}"
            }
          },
          "metadata": {},
          "execution_count": 63
        }
      ]
    },
    {
      "cell_type": "code",
      "source": [
        "df_val.head()"
      ],
      "metadata": {
        "colab": {
          "base_uri": "https://localhost:8080/",
          "height": 204
        },
        "id": "bZLcB0pdYEf7",
        "outputId": "468edd23-6b2c-4ae7-dd2e-e407ef88cb2b"
      },
      "execution_count": 64,
      "outputs": [
        {
          "output_type": "execute_result",
          "data": {
            "text/plain": [
              "   engine_displacement  horsepower  vehicle_weight  model_year  \\\n",
              "0                  190       186.0     2955.506105        2021   \n",
              "1                  210       120.0     3709.433973        2013   \n",
              "2                  160       154.0     2876.536456        2018   \n",
              "3                  220       181.0     3280.190782        2012   \n",
              "4                  230       175.0     2626.784941        2003   \n",
              "\n",
              "   fuel_efficiency_mpg  \n",
              "0            14.370227  \n",
              "1             9.945553  \n",
              "2            15.719309  \n",
              "3            13.960268  \n",
              "4            17.302281  "
            ],
            "text/html": [
              "\n",
              "  <div id=\"df-eca16bcc-1ae0-4a0f-b0d4-2405a623d441\" class=\"colab-df-container\">\n",
              "    <div>\n",
              "<style scoped>\n",
              "    .dataframe tbody tr th:only-of-type {\n",
              "        vertical-align: middle;\n",
              "    }\n",
              "\n",
              "    .dataframe tbody tr th {\n",
              "        vertical-align: top;\n",
              "    }\n",
              "\n",
              "    .dataframe thead th {\n",
              "        text-align: right;\n",
              "    }\n",
              "</style>\n",
              "<table border=\"1\" class=\"dataframe\">\n",
              "  <thead>\n",
              "    <tr style=\"text-align: right;\">\n",
              "      <th></th>\n",
              "      <th>engine_displacement</th>\n",
              "      <th>horsepower</th>\n",
              "      <th>vehicle_weight</th>\n",
              "      <th>model_year</th>\n",
              "      <th>fuel_efficiency_mpg</th>\n",
              "    </tr>\n",
              "  </thead>\n",
              "  <tbody>\n",
              "    <tr>\n",
              "      <th>0</th>\n",
              "      <td>190</td>\n",
              "      <td>186.0</td>\n",
              "      <td>2955.506105</td>\n",
              "      <td>2021</td>\n",
              "      <td>14.370227</td>\n",
              "    </tr>\n",
              "    <tr>\n",
              "      <th>1</th>\n",
              "      <td>210</td>\n",
              "      <td>120.0</td>\n",
              "      <td>3709.433973</td>\n",
              "      <td>2013</td>\n",
              "      <td>9.945553</td>\n",
              "    </tr>\n",
              "    <tr>\n",
              "      <th>2</th>\n",
              "      <td>160</td>\n",
              "      <td>154.0</td>\n",
              "      <td>2876.536456</td>\n",
              "      <td>2018</td>\n",
              "      <td>15.719309</td>\n",
              "    </tr>\n",
              "    <tr>\n",
              "      <th>3</th>\n",
              "      <td>220</td>\n",
              "      <td>181.0</td>\n",
              "      <td>3280.190782</td>\n",
              "      <td>2012</td>\n",
              "      <td>13.960268</td>\n",
              "    </tr>\n",
              "    <tr>\n",
              "      <th>4</th>\n",
              "      <td>230</td>\n",
              "      <td>175.0</td>\n",
              "      <td>2626.784941</td>\n",
              "      <td>2003</td>\n",
              "      <td>17.302281</td>\n",
              "    </tr>\n",
              "  </tbody>\n",
              "</table>\n",
              "</div>\n",
              "    <div class=\"colab-df-buttons\">\n",
              "\n",
              "  <div class=\"colab-df-container\">\n",
              "    <button class=\"colab-df-convert\" onclick=\"convertToInteractive('df-eca16bcc-1ae0-4a0f-b0d4-2405a623d441')\"\n",
              "            title=\"Convert this dataframe to an interactive table.\"\n",
              "            style=\"display:none;\">\n",
              "\n",
              "  <svg xmlns=\"http://www.w3.org/2000/svg\" height=\"24px\" viewBox=\"0 -960 960 960\">\n",
              "    <path d=\"M120-120v-720h720v720H120Zm60-500h600v-160H180v160Zm220 220h160v-160H400v160Zm0 220h160v-160H400v160ZM180-400h160v-160H180v160Zm440 0h160v-160H620v160ZM180-180h160v-160H180v160Zm440 0h160v-160H620v160Z\"/>\n",
              "  </svg>\n",
              "    </button>\n",
              "\n",
              "  <style>\n",
              "    .colab-df-container {\n",
              "      display:flex;\n",
              "      gap: 12px;\n",
              "    }\n",
              "\n",
              "    .colab-df-convert {\n",
              "      background-color: #E8F0FE;\n",
              "      border: none;\n",
              "      border-radius: 50%;\n",
              "      cursor: pointer;\n",
              "      display: none;\n",
              "      fill: #1967D2;\n",
              "      height: 32px;\n",
              "      padding: 0 0 0 0;\n",
              "      width: 32px;\n",
              "    }\n",
              "\n",
              "    .colab-df-convert:hover {\n",
              "      background-color: #E2EBFA;\n",
              "      box-shadow: 0px 1px 2px rgba(60, 64, 67, 0.3), 0px 1px 3px 1px rgba(60, 64, 67, 0.15);\n",
              "      fill: #174EA6;\n",
              "    }\n",
              "\n",
              "    .colab-df-buttons div {\n",
              "      margin-bottom: 4px;\n",
              "    }\n",
              "\n",
              "    [theme=dark] .colab-df-convert {\n",
              "      background-color: #3B4455;\n",
              "      fill: #D2E3FC;\n",
              "    }\n",
              "\n",
              "    [theme=dark] .colab-df-convert:hover {\n",
              "      background-color: #434B5C;\n",
              "      box-shadow: 0px 1px 3px 1px rgba(0, 0, 0, 0.15);\n",
              "      filter: drop-shadow(0px 1px 2px rgba(0, 0, 0, 0.3));\n",
              "      fill: #FFFFFF;\n",
              "    }\n",
              "  </style>\n",
              "\n",
              "    <script>\n",
              "      const buttonEl =\n",
              "        document.querySelector('#df-eca16bcc-1ae0-4a0f-b0d4-2405a623d441 button.colab-df-convert');\n",
              "      buttonEl.style.display =\n",
              "        google.colab.kernel.accessAllowed ? 'block' : 'none';\n",
              "\n",
              "      async function convertToInteractive(key) {\n",
              "        const element = document.querySelector('#df-eca16bcc-1ae0-4a0f-b0d4-2405a623d441');\n",
              "        const dataTable =\n",
              "          await google.colab.kernel.invokeFunction('convertToInteractive',\n",
              "                                                    [key], {});\n",
              "        if (!dataTable) return;\n",
              "\n",
              "        const docLinkHtml = 'Like what you see? Visit the ' +\n",
              "          '<a target=\"_blank\" href=https://colab.research.google.com/notebooks/data_table.ipynb>data table notebook</a>'\n",
              "          + ' to learn more about interactive tables.';\n",
              "        element.innerHTML = '';\n",
              "        dataTable['output_type'] = 'display_data';\n",
              "        await google.colab.output.renderOutput(dataTable, element);\n",
              "        const docLink = document.createElement('div');\n",
              "        docLink.innerHTML = docLinkHtml;\n",
              "        element.appendChild(docLink);\n",
              "      }\n",
              "    </script>\n",
              "  </div>\n",
              "\n",
              "\n",
              "    <div id=\"df-b456359d-6c6f-47b7-8b94-0ec61bc5dfc1\">\n",
              "      <button class=\"colab-df-quickchart\" onclick=\"quickchart('df-b456359d-6c6f-47b7-8b94-0ec61bc5dfc1')\"\n",
              "                title=\"Suggest charts\"\n",
              "                style=\"display:none;\">\n",
              "\n",
              "<svg xmlns=\"http://www.w3.org/2000/svg\" height=\"24px\"viewBox=\"0 0 24 24\"\n",
              "     width=\"24px\">\n",
              "    <g>\n",
              "        <path d=\"M19 3H5c-1.1 0-2 .9-2 2v14c0 1.1.9 2 2 2h14c1.1 0 2-.9 2-2V5c0-1.1-.9-2-2-2zM9 17H7v-7h2v7zm4 0h-2V7h2v10zm4 0h-2v-4h2v4z\"/>\n",
              "    </g>\n",
              "</svg>\n",
              "      </button>\n",
              "\n",
              "<style>\n",
              "  .colab-df-quickchart {\n",
              "      --bg-color: #E8F0FE;\n",
              "      --fill-color: #1967D2;\n",
              "      --hover-bg-color: #E2EBFA;\n",
              "      --hover-fill-color: #174EA6;\n",
              "      --disabled-fill-color: #AAA;\n",
              "      --disabled-bg-color: #DDD;\n",
              "  }\n",
              "\n",
              "  [theme=dark] .colab-df-quickchart {\n",
              "      --bg-color: #3B4455;\n",
              "      --fill-color: #D2E3FC;\n",
              "      --hover-bg-color: #434B5C;\n",
              "      --hover-fill-color: #FFFFFF;\n",
              "      --disabled-bg-color: #3B4455;\n",
              "      --disabled-fill-color: #666;\n",
              "  }\n",
              "\n",
              "  .colab-df-quickchart {\n",
              "    background-color: var(--bg-color);\n",
              "    border: none;\n",
              "    border-radius: 50%;\n",
              "    cursor: pointer;\n",
              "    display: none;\n",
              "    fill: var(--fill-color);\n",
              "    height: 32px;\n",
              "    padding: 0;\n",
              "    width: 32px;\n",
              "  }\n",
              "\n",
              "  .colab-df-quickchart:hover {\n",
              "    background-color: var(--hover-bg-color);\n",
              "    box-shadow: 0 1px 2px rgba(60, 64, 67, 0.3), 0 1px 3px 1px rgba(60, 64, 67, 0.15);\n",
              "    fill: var(--button-hover-fill-color);\n",
              "  }\n",
              "\n",
              "  .colab-df-quickchart-complete:disabled,\n",
              "  .colab-df-quickchart-complete:disabled:hover {\n",
              "    background-color: var(--disabled-bg-color);\n",
              "    fill: var(--disabled-fill-color);\n",
              "    box-shadow: none;\n",
              "  }\n",
              "\n",
              "  .colab-df-spinner {\n",
              "    border: 2px solid var(--fill-color);\n",
              "    border-color: transparent;\n",
              "    border-bottom-color: var(--fill-color);\n",
              "    animation:\n",
              "      spin 1s steps(1) infinite;\n",
              "  }\n",
              "\n",
              "  @keyframes spin {\n",
              "    0% {\n",
              "      border-color: transparent;\n",
              "      border-bottom-color: var(--fill-color);\n",
              "      border-left-color: var(--fill-color);\n",
              "    }\n",
              "    20% {\n",
              "      border-color: transparent;\n",
              "      border-left-color: var(--fill-color);\n",
              "      border-top-color: var(--fill-color);\n",
              "    }\n",
              "    30% {\n",
              "      border-color: transparent;\n",
              "      border-left-color: var(--fill-color);\n",
              "      border-top-color: var(--fill-color);\n",
              "      border-right-color: var(--fill-color);\n",
              "    }\n",
              "    40% {\n",
              "      border-color: transparent;\n",
              "      border-right-color: var(--fill-color);\n",
              "      border-top-color: var(--fill-color);\n",
              "    }\n",
              "    60% {\n",
              "      border-color: transparent;\n",
              "      border-right-color: var(--fill-color);\n",
              "    }\n",
              "    80% {\n",
              "      border-color: transparent;\n",
              "      border-right-color: var(--fill-color);\n",
              "      border-bottom-color: var(--fill-color);\n",
              "    }\n",
              "    90% {\n",
              "      border-color: transparent;\n",
              "      border-bottom-color: var(--fill-color);\n",
              "    }\n",
              "  }\n",
              "</style>\n",
              "\n",
              "      <script>\n",
              "        async function quickchart(key) {\n",
              "          const quickchartButtonEl =\n",
              "            document.querySelector('#' + key + ' button');\n",
              "          quickchartButtonEl.disabled = true;  // To prevent multiple clicks.\n",
              "          quickchartButtonEl.classList.add('colab-df-spinner');\n",
              "          try {\n",
              "            const charts = await google.colab.kernel.invokeFunction(\n",
              "                'suggestCharts', [key], {});\n",
              "          } catch (error) {\n",
              "            console.error('Error during call to suggestCharts:', error);\n",
              "          }\n",
              "          quickchartButtonEl.classList.remove('colab-df-spinner');\n",
              "          quickchartButtonEl.classList.add('colab-df-quickchart-complete');\n",
              "        }\n",
              "        (() => {\n",
              "          let quickchartButtonEl =\n",
              "            document.querySelector('#df-b456359d-6c6f-47b7-8b94-0ec61bc5dfc1 button');\n",
              "          quickchartButtonEl.style.display =\n",
              "            google.colab.kernel.accessAllowed ? 'block' : 'none';\n",
              "        })();\n",
              "      </script>\n",
              "    </div>\n",
              "\n",
              "    </div>\n",
              "  </div>\n"
            ],
            "application/vnd.google.colaboratory.intrinsic+json": {
              "type": "dataframe",
              "variable_name": "df_val",
              "summary": "{\n  \"name\": \"df_val\",\n  \"rows\": 1941,\n  \"fields\": [\n    {\n      \"column\": \"engine_displacement\",\n      \"properties\": {\n        \"dtype\": \"number\",\n        \"std\": 50,\n        \"min\": 30,\n        \"max\": 380,\n        \"num_unique_values\": 34,\n        \"samples\": [\n          380,\n          70,\n          80\n        ],\n        \"semantic_type\": \"\",\n        \"description\": \"\"\n      }\n    },\n    {\n      \"column\": \"horsepower\",\n      \"properties\": {\n        \"dtype\": \"number\",\n        \"std\": 49.3851400145882,\n        \"min\": 0.0,\n        \"max\": 252.0,\n        \"num_unique_values\": 167,\n        \"samples\": [\n          203.0,\n          109.0,\n          108.0\n        ],\n        \"semantic_type\": \"\",\n        \"description\": \"\"\n      }\n    },\n    {\n      \"column\": \"vehicle_weight\",\n      \"properties\": {\n        \"dtype\": \"number\",\n        \"std\": 499.13408447940725,\n        \"min\": 952.6817606436496,\n        \"max\": 4643.568671592193,\n        \"num_unique_values\": 1941,\n        \"samples\": [\n          3458.2873880957395,\n          2396.4718688040966,\n          3110.0021587775045\n        ],\n        \"semantic_type\": \"\",\n        \"description\": \"\"\n      }\n    },\n    {\n      \"column\": \"model_year\",\n      \"properties\": {\n        \"dtype\": \"number\",\n        \"std\": 6,\n        \"min\": 2000,\n        \"max\": 2023,\n        \"num_unique_values\": 24,\n        \"samples\": [\n          2016,\n          2017,\n          2021\n        ],\n        \"semantic_type\": \"\",\n        \"description\": \"\"\n      }\n    },\n    {\n      \"column\": \"fuel_efficiency_mpg\",\n      \"properties\": {\n        \"dtype\": \"number\",\n        \"std\": 2.5525619067477203,\n        \"min\": 6.67647547062435,\n        \"max\": 25.96722204888372,\n        \"num_unique_values\": 1941,\n        \"samples\": [\n          12.538650142327132,\n          16.891026663756662,\n          14.00046262507744\n        ],\n        \"semantic_type\": \"\",\n        \"description\": \"\"\n      }\n    }\n  ]\n}"
            }
          },
          "metadata": {},
          "execution_count": 64
        }
      ]
    },
    {
      "cell_type": "code",
      "source": [
        "df_test.head()"
      ],
      "metadata": {
        "colab": {
          "base_uri": "https://localhost:8080/",
          "height": 204
        },
        "id": "TtctdMETYLgp",
        "outputId": "03304a78-3acd-4a37-fb67-a7844c95cf50"
      },
      "execution_count": 65,
      "outputs": [
        {
          "output_type": "execute_result",
          "data": {
            "text/plain": [
              "   engine_displacement  horsepower  vehicle_weight  model_year  \\\n",
              "0                  220       181.0     2563.027777        2014   \n",
              "1                  170         0.0     3258.493827        2004   \n",
              "2                  140       120.0     2059.906745        2022   \n",
              "3                  170       215.0     2702.545113        2016   \n",
              "4                  210       137.0     3417.292228        2016   \n",
              "\n",
              "   fuel_efficiency_mpg  \n",
              "0            17.411819  \n",
              "1            14.245590  \n",
              "2            19.820801  \n",
              "3            17.277785  \n",
              "4            12.757799  "
            ],
            "text/html": [
              "\n",
              "  <div id=\"df-e31d5270-0dc2-41c3-8270-b25e5b7ea483\" class=\"colab-df-container\">\n",
              "    <div>\n",
              "<style scoped>\n",
              "    .dataframe tbody tr th:only-of-type {\n",
              "        vertical-align: middle;\n",
              "    }\n",
              "\n",
              "    .dataframe tbody tr th {\n",
              "        vertical-align: top;\n",
              "    }\n",
              "\n",
              "    .dataframe thead th {\n",
              "        text-align: right;\n",
              "    }\n",
              "</style>\n",
              "<table border=\"1\" class=\"dataframe\">\n",
              "  <thead>\n",
              "    <tr style=\"text-align: right;\">\n",
              "      <th></th>\n",
              "      <th>engine_displacement</th>\n",
              "      <th>horsepower</th>\n",
              "      <th>vehicle_weight</th>\n",
              "      <th>model_year</th>\n",
              "      <th>fuel_efficiency_mpg</th>\n",
              "    </tr>\n",
              "  </thead>\n",
              "  <tbody>\n",
              "    <tr>\n",
              "      <th>0</th>\n",
              "      <td>220</td>\n",
              "      <td>181.0</td>\n",
              "      <td>2563.027777</td>\n",
              "      <td>2014</td>\n",
              "      <td>17.411819</td>\n",
              "    </tr>\n",
              "    <tr>\n",
              "      <th>1</th>\n",
              "      <td>170</td>\n",
              "      <td>0.0</td>\n",
              "      <td>3258.493827</td>\n",
              "      <td>2004</td>\n",
              "      <td>14.245590</td>\n",
              "    </tr>\n",
              "    <tr>\n",
              "      <th>2</th>\n",
              "      <td>140</td>\n",
              "      <td>120.0</td>\n",
              "      <td>2059.906745</td>\n",
              "      <td>2022</td>\n",
              "      <td>19.820801</td>\n",
              "    </tr>\n",
              "    <tr>\n",
              "      <th>3</th>\n",
              "      <td>170</td>\n",
              "      <td>215.0</td>\n",
              "      <td>2702.545113</td>\n",
              "      <td>2016</td>\n",
              "      <td>17.277785</td>\n",
              "    </tr>\n",
              "    <tr>\n",
              "      <th>4</th>\n",
              "      <td>210</td>\n",
              "      <td>137.0</td>\n",
              "      <td>3417.292228</td>\n",
              "      <td>2016</td>\n",
              "      <td>12.757799</td>\n",
              "    </tr>\n",
              "  </tbody>\n",
              "</table>\n",
              "</div>\n",
              "    <div class=\"colab-df-buttons\">\n",
              "\n",
              "  <div class=\"colab-df-container\">\n",
              "    <button class=\"colab-df-convert\" onclick=\"convertToInteractive('df-e31d5270-0dc2-41c3-8270-b25e5b7ea483')\"\n",
              "            title=\"Convert this dataframe to an interactive table.\"\n",
              "            style=\"display:none;\">\n",
              "\n",
              "  <svg xmlns=\"http://www.w3.org/2000/svg\" height=\"24px\" viewBox=\"0 -960 960 960\">\n",
              "    <path d=\"M120-120v-720h720v720H120Zm60-500h600v-160H180v160Zm220 220h160v-160H400v160Zm0 220h160v-160H400v160ZM180-400h160v-160H180v160Zm440 0h160v-160H620v160ZM180-180h160v-160H180v160Zm440 0h160v-160H620v160Z\"/>\n",
              "  </svg>\n",
              "    </button>\n",
              "\n",
              "  <style>\n",
              "    .colab-df-container {\n",
              "      display:flex;\n",
              "      gap: 12px;\n",
              "    }\n",
              "\n",
              "    .colab-df-convert {\n",
              "      background-color: #E8F0FE;\n",
              "      border: none;\n",
              "      border-radius: 50%;\n",
              "      cursor: pointer;\n",
              "      display: none;\n",
              "      fill: #1967D2;\n",
              "      height: 32px;\n",
              "      padding: 0 0 0 0;\n",
              "      width: 32px;\n",
              "    }\n",
              "\n",
              "    .colab-df-convert:hover {\n",
              "      background-color: #E2EBFA;\n",
              "      box-shadow: 0px 1px 2px rgba(60, 64, 67, 0.3), 0px 1px 3px 1px rgba(60, 64, 67, 0.15);\n",
              "      fill: #174EA6;\n",
              "    }\n",
              "\n",
              "    .colab-df-buttons div {\n",
              "      margin-bottom: 4px;\n",
              "    }\n",
              "\n",
              "    [theme=dark] .colab-df-convert {\n",
              "      background-color: #3B4455;\n",
              "      fill: #D2E3FC;\n",
              "    }\n",
              "\n",
              "    [theme=dark] .colab-df-convert:hover {\n",
              "      background-color: #434B5C;\n",
              "      box-shadow: 0px 1px 3px 1px rgba(0, 0, 0, 0.15);\n",
              "      filter: drop-shadow(0px 1px 2px rgba(0, 0, 0, 0.3));\n",
              "      fill: #FFFFFF;\n",
              "    }\n",
              "  </style>\n",
              "\n",
              "    <script>\n",
              "      const buttonEl =\n",
              "        document.querySelector('#df-e31d5270-0dc2-41c3-8270-b25e5b7ea483 button.colab-df-convert');\n",
              "      buttonEl.style.display =\n",
              "        google.colab.kernel.accessAllowed ? 'block' : 'none';\n",
              "\n",
              "      async function convertToInteractive(key) {\n",
              "        const element = document.querySelector('#df-e31d5270-0dc2-41c3-8270-b25e5b7ea483');\n",
              "        const dataTable =\n",
              "          await google.colab.kernel.invokeFunction('convertToInteractive',\n",
              "                                                    [key], {});\n",
              "        if (!dataTable) return;\n",
              "\n",
              "        const docLinkHtml = 'Like what you see? Visit the ' +\n",
              "          '<a target=\"_blank\" href=https://colab.research.google.com/notebooks/data_table.ipynb>data table notebook</a>'\n",
              "          + ' to learn more about interactive tables.';\n",
              "        element.innerHTML = '';\n",
              "        dataTable['output_type'] = 'display_data';\n",
              "        await google.colab.output.renderOutput(dataTable, element);\n",
              "        const docLink = document.createElement('div');\n",
              "        docLink.innerHTML = docLinkHtml;\n",
              "        element.appendChild(docLink);\n",
              "      }\n",
              "    </script>\n",
              "  </div>\n",
              "\n",
              "\n",
              "    <div id=\"df-87ce8576-86b4-4053-8251-51ba382bd17f\">\n",
              "      <button class=\"colab-df-quickchart\" onclick=\"quickchart('df-87ce8576-86b4-4053-8251-51ba382bd17f')\"\n",
              "                title=\"Suggest charts\"\n",
              "                style=\"display:none;\">\n",
              "\n",
              "<svg xmlns=\"http://www.w3.org/2000/svg\" height=\"24px\"viewBox=\"0 0 24 24\"\n",
              "     width=\"24px\">\n",
              "    <g>\n",
              "        <path d=\"M19 3H5c-1.1 0-2 .9-2 2v14c0 1.1.9 2 2 2h14c1.1 0 2-.9 2-2V5c0-1.1-.9-2-2-2zM9 17H7v-7h2v7zm4 0h-2V7h2v10zm4 0h-2v-4h2v4z\"/>\n",
              "    </g>\n",
              "</svg>\n",
              "      </button>\n",
              "\n",
              "<style>\n",
              "  .colab-df-quickchart {\n",
              "      --bg-color: #E8F0FE;\n",
              "      --fill-color: #1967D2;\n",
              "      --hover-bg-color: #E2EBFA;\n",
              "      --hover-fill-color: #174EA6;\n",
              "      --disabled-fill-color: #AAA;\n",
              "      --disabled-bg-color: #DDD;\n",
              "  }\n",
              "\n",
              "  [theme=dark] .colab-df-quickchart {\n",
              "      --bg-color: #3B4455;\n",
              "      --fill-color: #D2E3FC;\n",
              "      --hover-bg-color: #434B5C;\n",
              "      --hover-fill-color: #FFFFFF;\n",
              "      --disabled-bg-color: #3B4455;\n",
              "      --disabled-fill-color: #666;\n",
              "  }\n",
              "\n",
              "  .colab-df-quickchart {\n",
              "    background-color: var(--bg-color);\n",
              "    border: none;\n",
              "    border-radius: 50%;\n",
              "    cursor: pointer;\n",
              "    display: none;\n",
              "    fill: var(--fill-color);\n",
              "    height: 32px;\n",
              "    padding: 0;\n",
              "    width: 32px;\n",
              "  }\n",
              "\n",
              "  .colab-df-quickchart:hover {\n",
              "    background-color: var(--hover-bg-color);\n",
              "    box-shadow: 0 1px 2px rgba(60, 64, 67, 0.3), 0 1px 3px 1px rgba(60, 64, 67, 0.15);\n",
              "    fill: var(--button-hover-fill-color);\n",
              "  }\n",
              "\n",
              "  .colab-df-quickchart-complete:disabled,\n",
              "  .colab-df-quickchart-complete:disabled:hover {\n",
              "    background-color: var(--disabled-bg-color);\n",
              "    fill: var(--disabled-fill-color);\n",
              "    box-shadow: none;\n",
              "  }\n",
              "\n",
              "  .colab-df-spinner {\n",
              "    border: 2px solid var(--fill-color);\n",
              "    border-color: transparent;\n",
              "    border-bottom-color: var(--fill-color);\n",
              "    animation:\n",
              "      spin 1s steps(1) infinite;\n",
              "  }\n",
              "\n",
              "  @keyframes spin {\n",
              "    0% {\n",
              "      border-color: transparent;\n",
              "      border-bottom-color: var(--fill-color);\n",
              "      border-left-color: var(--fill-color);\n",
              "    }\n",
              "    20% {\n",
              "      border-color: transparent;\n",
              "      border-left-color: var(--fill-color);\n",
              "      border-top-color: var(--fill-color);\n",
              "    }\n",
              "    30% {\n",
              "      border-color: transparent;\n",
              "      border-left-color: var(--fill-color);\n",
              "      border-top-color: var(--fill-color);\n",
              "      border-right-color: var(--fill-color);\n",
              "    }\n",
              "    40% {\n",
              "      border-color: transparent;\n",
              "      border-right-color: var(--fill-color);\n",
              "      border-top-color: var(--fill-color);\n",
              "    }\n",
              "    60% {\n",
              "      border-color: transparent;\n",
              "      border-right-color: var(--fill-color);\n",
              "    }\n",
              "    80% {\n",
              "      border-color: transparent;\n",
              "      border-right-color: var(--fill-color);\n",
              "      border-bottom-color: var(--fill-color);\n",
              "    }\n",
              "    90% {\n",
              "      border-color: transparent;\n",
              "      border-bottom-color: var(--fill-color);\n",
              "    }\n",
              "  }\n",
              "</style>\n",
              "\n",
              "      <script>\n",
              "        async function quickchart(key) {\n",
              "          const quickchartButtonEl =\n",
              "            document.querySelector('#' + key + ' button');\n",
              "          quickchartButtonEl.disabled = true;  // To prevent multiple clicks.\n",
              "          quickchartButtonEl.classList.add('colab-df-spinner');\n",
              "          try {\n",
              "            const charts = await google.colab.kernel.invokeFunction(\n",
              "                'suggestCharts', [key], {});\n",
              "          } catch (error) {\n",
              "            console.error('Error during call to suggestCharts:', error);\n",
              "          }\n",
              "          quickchartButtonEl.classList.remove('colab-df-spinner');\n",
              "          quickchartButtonEl.classList.add('colab-df-quickchart-complete');\n",
              "        }\n",
              "        (() => {\n",
              "          let quickchartButtonEl =\n",
              "            document.querySelector('#df-87ce8576-86b4-4053-8251-51ba382bd17f button');\n",
              "          quickchartButtonEl.style.display =\n",
              "            google.colab.kernel.accessAllowed ? 'block' : 'none';\n",
              "        })();\n",
              "      </script>\n",
              "    </div>\n",
              "\n",
              "    </div>\n",
              "  </div>\n"
            ],
            "application/vnd.google.colaboratory.intrinsic+json": {
              "type": "dataframe",
              "variable_name": "df_test",
              "summary": "{\n  \"name\": \"df_test\",\n  \"rows\": 1941,\n  \"fields\": [\n    {\n      \"column\": \"engine_displacement\",\n      \"properties\": {\n        \"dtype\": \"number\",\n        \"std\": 49,\n        \"min\": 10,\n        \"max\": 370,\n        \"num_unique_values\": 35,\n        \"samples\": [\n          30,\n          260,\n          60\n        ],\n        \"semantic_type\": \"\",\n        \"description\": \"\"\n      }\n    },\n    {\n      \"column\": \"horsepower\",\n      \"properties\": {\n        \"dtype\": \"number\",\n        \"std\": 47.779160787622175,\n        \"min\": 0.0,\n        \"max\": 240.0,\n        \"num_unique_values\": 159,\n        \"samples\": [\n          132.0,\n          62.0,\n          203.0\n        ],\n        \"semantic_type\": \"\",\n        \"description\": \"\"\n      }\n    },\n    {\n      \"column\": \"vehicle_weight\",\n      \"properties\": {\n        \"dtype\": \"number\",\n        \"std\": 496.39758672974807,\n        \"min\": 1066.3283007987998,\n        \"max\": 4726.97726859383,\n        \"num_unique_values\": 1941,\n        \"samples\": [\n          3361.202712532364,\n          3083.7918261017817,\n          3834.822342560648\n        ],\n        \"semantic_type\": \"\",\n        \"description\": \"\"\n      }\n    },\n    {\n      \"column\": \"model_year\",\n      \"properties\": {\n        \"dtype\": \"number\",\n        \"std\": 6,\n        \"min\": 2000,\n        \"max\": 2023,\n        \"num_unique_values\": 24,\n        \"samples\": [\n          2023,\n          2010,\n          2014\n        ],\n        \"semantic_type\": \"\",\n        \"description\": \"\"\n      }\n    },\n    {\n      \"column\": \"fuel_efficiency_mpg\",\n      \"properties\": {\n        \"dtype\": \"number\",\n        \"std\": 2.551145931357148,\n        \"min\": 6.200970533392815,\n        \"max\": 24.971452356471183,\n        \"num_unique_values\": 1941,\n        \"samples\": [\n          14.371343022887922,\n          14.849766633842538,\n          11.444937156394689\n        ],\n        \"semantic_type\": \"\",\n        \"description\": \"\"\n      }\n    }\n  ]\n}"
            }
          },
          "metadata": {},
          "execution_count": 65
        }
      ]
    },
    {
      "cell_type": "code",
      "source": [
        "y_train = df_train.fuel_efficiency_mpg.values\n",
        "y_val = df_val.fuel_efficiency_mpg.values\n",
        "y_test = df_test.fuel_efficiency_mpg.values"
      ],
      "metadata": {
        "id": "_-qox2sBYqzN"
      },
      "execution_count": 66,
      "outputs": []
    },
    {
      "cell_type": "code",
      "source": [
        "del df_train['fuel_efficiency_mpg']\n",
        "del df_val['fuel_efficiency_mpg']\n",
        "del df_test['fuel_efficiency_mpg']"
      ],
      "metadata": {
        "id": "WyjW36zaZBiI"
      },
      "execution_count": 67,
      "outputs": []
    },
    {
      "cell_type": "markdown",
      "source": [
        "### Training"
      ],
      "metadata": {
        "id": "-4OTt2Wshpfs"
      }
    },
    {
      "cell_type": "code",
      "source": [
        "def prepare_X(df1):\n",
        "  X = df1.values\n",
        "  return X"
      ],
      "metadata": {
        "id": "F17IZVS6-LSt"
      },
      "execution_count": 68,
      "outputs": []
    },
    {
      "cell_type": "code",
      "source": [
        "X_train = prepare_X(df_train)"
      ],
      "metadata": {
        "id": "O05s9JVxmgH_"
      },
      "execution_count": 69,
      "outputs": []
    },
    {
      "cell_type": "code",
      "source": [
        "def train_linear_regression(X, y):\n",
        "  ones = np.ones(X.shape[0])\n",
        "  X = np.column_stack([ones, X])\n",
        "  XTX = X.T.dot(X)\n",
        "  XTX_inv = np.linalg.inv(XTX)\n",
        "  w_full = XTX_inv.dot(X.T).dot(y)\n",
        "  return w_full[0], w_full[1:]"
      ],
      "metadata": {
        "id": "korfvyAthn70"
      },
      "execution_count": 70,
      "outputs": []
    },
    {
      "cell_type": "code",
      "source": [
        "w0, w = train_linear_regression(X_train, y_train)"
      ],
      "metadata": {
        "id": "SeG6KIaQkzTJ"
      },
      "execution_count": 71,
      "outputs": []
    },
    {
      "cell_type": "code",
      "source": [
        "y_pred = w0 + X_train.dot(w)"
      ],
      "metadata": {
        "id": "hDKVDq3G7C7Q"
      },
      "execution_count": 72,
      "outputs": []
    },
    {
      "cell_type": "code",
      "source": [
        "sns.histplot(y_pred, bins = 50, alpha = 0.5, color = 'red')\n",
        "sns.histplot(y_train, alpha = 0.5, bins = 50)"
      ],
      "metadata": {
        "colab": {
          "base_uri": "https://localhost:8080/",
          "height": 447
        },
        "id": "AMOtPkwc7L2A",
        "outputId": "56ab2e9b-26ed-4b98-d40f-3fd54e56b10e"
      },
      "execution_count": 73,
      "outputs": [
        {
          "output_type": "execute_result",
          "data": {
            "text/plain": [
              "<Axes: ylabel='Count'>"
            ]
          },
          "metadata": {},
          "execution_count": 73
        },
        {
          "output_type": "display_data",
          "data": {
            "text/plain": [
              "<Figure size 640x480 with 1 Axes>"
            ],
            "image/png": "[encoded data removed]"
          },
          "metadata": {}
        }
      ]
    },
    {
      "cell_type": "markdown",
      "source": [
        "### Evaluating: RMSE"
      ],
      "metadata": {
        "id": "iFcRLcRL8drf"
      }
    },
    {
      "cell_type": "code",
      "source": [
        "def rmse(y, y_pred):\n",
        "  se = (y - y_pred) ** 2\n",
        "  mse = se.mean()\n",
        "  return np.sqrt(mse)"
      ],
      "metadata": {
        "id": "yWLMwsXk8gGc"
      },
      "execution_count": 94,
      "outputs": []
    },
    {
      "cell_type": "code",
      "source": [
        "rmse(y_train, y_pred)"
      ],
      "metadata": {
        "colab": {
          "base_uri": "https://localhost:8080/"
        },
        "id": "265ptoLT8sCs",
        "outputId": "0455fbf4-9dd3-4e3c-a6d0-c1a5c0046888"
      },
      "execution_count": 75,
      "outputs": [
        {
          "output_type": "execute_result",
          "data": {
            "text/plain": [
              "np.float64(0.52)"
            ]
          },
          "metadata": {},
          "execution_count": 75
        }
      ]
    },
    {
      "cell_type": "markdown",
      "source": [
        "### Validation"
      ],
      "metadata": {
        "id": "tVDkFyyY-pa0"
      }
    },
    {
      "cell_type": "code",
      "source": [
        "X_val = prepare_X(df_val)\n",
        "w0, w = train_linear_regression(X_val, y_val)\n",
        "y_pred = w0 + X_val.dot(w)\n",
        "rmse(y_val, y_pred)"
      ],
      "metadata": {
        "colab": {
          "base_uri": "https://localhost:8080/"
        },
        "id": "DVcvNsqz-ddN",
        "outputId": "702fa87c-da4f-4571-978b-36928ca7ca22"
      },
      "execution_count": 76,
      "outputs": [
        {
          "output_type": "execute_result",
          "data": {
            "text/plain": [
              "np.float64(0.51)"
            ]
          },
          "metadata": {},
          "execution_count": 76
        }
      ]
    },
    {
      "cell_type": "markdown",
      "source": [
        "### Testing"
      ],
      "metadata": {
        "id": "LkOMY1of_apl"
      }
    },
    {
      "cell_type": "code",
      "source": [
        "X_test = prepare_X(df_test)\n",
        "w0, w = train_linear_regression(X_test, y_test)\n",
        "y_pred = w0 + X_test.dot(w)\n",
        "rmse(y_test, y_pred)"
      ],
      "metadata": {
        "colab": {
          "base_uri": "https://localhost:8080/"
        },
        "id": "8SwV3A4K_f_e",
        "outputId": "d13f1aff-7720-4e60-b9d9-72aab7d416b3"
      },
      "execution_count": 77,
      "outputs": [
        {
          "output_type": "execute_result",
          "data": {
            "text/plain": [
              "np.float64(0.51)"
            ]
          },
          "metadata": {},
          "execution_count": 77
        }
      ]
    },
    {
      "cell_type": "markdown",
      "source": [
        "## Retraining and modeling, but with fillna as mean instead of 0"
      ],
      "metadata": {
        "id": "aaQSFA2VAjqv"
      }
    },
    {
      "cell_type": "code",
      "source": [
        "df1 = df.fillna(df['horsepower'].median())"
      ],
      "metadata": {
        "id": "sCInEUXUAp9i"
      },
      "execution_count": 78,
      "outputs": []
    },
    {
      "cell_type": "markdown",
      "source": [
        "Preparing the new data as a copy:"
      ],
      "metadata": {
        "id": "cdnqOAP9B6J1"
      }
    },
    {
      "cell_type": "code",
      "source": [
        "df1_shuffled = df1.sample(frac=1, random_state=42).reset_index(drop=True)\n",
        "df1_train, df1_temp = train_test_split(df1_shuffled, test_size=0.4, random_state=42)\n",
        "df1_val, df1_test = train_test_split(df1_temp, test_size=0.5, random_state=42)\n",
        "df1_train = df1_train.reset_index(drop=True)\n",
        "df1_val = df1_val.reset_index(drop=True)\n",
        "df1_test = df1_test.reset_index(drop=True)"
      ],
      "metadata": {
        "id": "GTg4eqQwBA3d"
      },
      "execution_count": 79,
      "outputs": []
    },
    {
      "cell_type": "code",
      "source": [
        "y1_train = df1_train.fuel_efficiency_mpg.values\n",
        "y1_val = df1_val.fuel_efficiency_mpg.values\n",
        "y1_test = df1_test.fuel_efficiency_mpg.values"
      ],
      "metadata": {
        "id": "XcjS6z0KBkc-"
      },
      "execution_count": 80,
      "outputs": []
    },
    {
      "cell_type": "code",
      "source": [
        "del df1_train['fuel_efficiency_mpg']\n",
        "del df1_val['fuel_efficiency_mpg']\n",
        "del df1_test['fuel_efficiency_mpg']"
      ],
      "metadata": {
        "id": "6ld5HJx5BuW0"
      },
      "execution_count": 81,
      "outputs": []
    },
    {
      "cell_type": "markdown",
      "source": [
        "Training:"
      ],
      "metadata": {
        "id": "Ev1tL1txB2BM"
      }
    },
    {
      "cell_type": "code",
      "source": [
        "X1_train = prepare_X(df1_train)\n",
        "w0, w = train_linear_regression(X1_train, y1_train)\n",
        "y1_pred = w0 + X1_train.dot(w)\n",
        "rmse(y1_train, y1_pred)"
      ],
      "metadata": {
        "colab": {
          "base_uri": "https://localhost:8080/"
        },
        "id": "-9HGomJ6B4ml",
        "outputId": "86f207b1-5800-4689-e1fd-ea30416b787a"
      },
      "execution_count": 82,
      "outputs": [
        {
          "output_type": "execute_result",
          "data": {
            "text/plain": [
              "np.float64(0.52)"
            ]
          },
          "metadata": {},
          "execution_count": 82
        }
      ]
    },
    {
      "cell_type": "markdown",
      "source": [
        "Validating:"
      ],
      "metadata": {
        "id": "fW6K2zfKB_8W"
      }
    },
    {
      "cell_type": "code",
      "source": [
        "X1_val = prepare_X(df1_val)\n",
        "w0, w = train_linear_regression(X1_val, y1_val)\n",
        "y1_pred = w0 + X1_val.dot(w)\n",
        "rmse(y1_val, y1_pred)"
      ],
      "metadata": {
        "colab": {
          "base_uri": "https://localhost:8080/"
        },
        "id": "A0ztjnN0B_WF",
        "outputId": "56c26a40-f5b1-475e-ea07-64878f92b535"
      },
      "execution_count": 83,
      "outputs": [
        {
          "output_type": "execute_result",
          "data": {
            "text/plain": [
              "np.float64(0.51)"
            ]
          },
          "metadata": {},
          "execution_count": 83
        }
      ]
    },
    {
      "cell_type": "markdown",
      "source": [
        "Testing:"
      ],
      "metadata": {
        "id": "uLOC6YMhCB06"
      }
    },
    {
      "cell_type": "code",
      "source": [
        "X1_test = prepare_X(df1_test)\n",
        "w0, w = train_linear_regression(X1_test, y1_test)\n",
        "y1_pred = w0 + X1_test.dot(w)\n",
        "rmse(y1_test, y1_pred)"
      ],
      "metadata": {
        "colab": {
          "base_uri": "https://localhost:8080/"
        },
        "id": "g5jwIL4HCC1g",
        "outputId": "ca8755bf-ad20-4b8d-fef6-435c6cda9d07"
      },
      "execution_count": 84,
      "outputs": [
        {
          "output_type": "execute_result",
          "data": {
            "text/plain": [
              "np.float64(0.51)"
            ]
          },
          "metadata": {},
          "execution_count": 84
        }
      ]
    },
    {
      "cell_type": "markdown",
      "source": [
        "## Regularization"
      ],
      "metadata": {
        "id": "UIUNHwTsN57C"
      }
    },
    {
      "cell_type": "code",
      "source": [
        "def train_linear_regression_reg(X, y, r):\n",
        "  ones = np.ones(X.shape[0])\n",
        "  X = np.column_stack([ones, X])\n",
        "  XTX = X.T.dot(X)\n",
        "  XTX = XTX + (r * np.eye(XTX.shape[0]))\n",
        "  XTX_inv = np.linalg.inv(XTX)\n",
        "  w_full = XTX_inv.dot(X.T).dot(y)\n",
        "  return w_full[0], w_full[1:]"
      ],
      "metadata": {
        "id": "l5gM7DUWkjOD"
      },
      "execution_count": 85,
      "outputs": []
    },
    {
      "cell_type": "markdown",
      "source": [
        "Training:"
      ],
      "metadata": {
        "id": "qvcMRMhVkOEL"
      }
    },
    {
      "cell_type": "code",
      "source": [
        "X1_train = prepare_X(df1_train)\n",
        "reg = [0, 0.01, 0.1, 1, 5, 10, 100]\n",
        "for r in reg:\n",
        "  w0, w = train_linear_regression_reg(X1_train, y1_train, r)\n",
        "  y1_pred = w0 + X1_train.dot(w)\n",
        "  print(f\"\\n RMSE for r = {r} is : {round(rmse(y1_train, y1_pred), 3)}\")"
      ],
      "metadata": {
        "colab": {
          "base_uri": "https://localhost:8080/"
        },
        "id": "joF6lZWsRm_z",
        "outputId": "62aa8b96-32c1-4bda-8afb-7bb270f700a8"
      },
      "execution_count": 98,
      "outputs": [
        {
          "output_type": "stream",
          "name": "stdout",
          "text": [
            "\n",
            " RMSE for r = 0 is : 0.523\n",
            "\n",
            " RMSE for r = 0.01 is : 0.523\n",
            "\n",
            " RMSE for r = 0.1 is : 0.526\n",
            "\n",
            " RMSE for r = 1 is : 0.531\n",
            "\n",
            " RMSE for r = 5 is : 0.531\n",
            "\n",
            " RMSE for r = 10 is : 0.531\n",
            "\n",
            " RMSE for r = 100 is : 0.532\n"
          ]
        }
      ]
    },
    {
      "cell_type": "markdown",
      "source": [
        "Validating:"
      ],
      "metadata": {
        "id": "bFjbyiqWkO8L"
      }
    },
    {
      "cell_type": "code",
      "source": [
        "X1_val = prepare_X(df1_val)\n",
        "for r in reg:\n",
        "  w0, w = train_linear_regression_reg(X1_val, y1_val, r)\n",
        "  y1_pred = w0 + X1_val.dot(w)\n",
        "  print(f\"\\n RMSE for r = {r} is : {round(rmse(y1_val, y1_pred), 3)}\")"
      ],
      "metadata": {
        "colab": {
          "base_uri": "https://localhost:8080/"
        },
        "id": "YPJaZFKnRpD5",
        "outputId": "f217deea-6596-47b1-a90d-699caf38b5fc"
      },
      "execution_count": 99,
      "outputs": [
        {
          "output_type": "stream",
          "name": "stdout",
          "text": [
            "\n",
            " RMSE for r = 0 is : 0.509\n",
            "\n",
            " RMSE for r = 0.01 is : 0.51\n",
            "\n",
            " RMSE for r = 0.1 is : 0.515\n",
            "\n",
            " RMSE for r = 1 is : 0.517\n",
            "\n",
            " RMSE for r = 5 is : 0.518\n",
            "\n",
            " RMSE for r = 10 is : 0.518\n",
            "\n",
            " RMSE for r = 100 is : 0.518\n"
          ]
        }
      ]
    },
    {
      "cell_type": "markdown",
      "source": [
        "Testing:"
      ],
      "metadata": {
        "id": "D9kgI996kQ6N"
      }
    },
    {
      "cell_type": "code",
      "source": [
        "X1_test = prepare_X(df1_test)\n",
        "for r in reg:\n",
        "  w0, w = train_linear_regression_reg(X1_test, y1_test, r)\n",
        "  y1_pred = w0 + X1_test.dot(w)\n",
        "  print(f\"\\n RMSE for r = {r} is : {round(rmse(y1_test, y1_pred), 3)}\")"
      ],
      "metadata": {
        "colab": {
          "base_uri": "https://localhost:8080/"
        },
        "id": "fKBteldZRrfC",
        "outputId": "7371437a-c144-47f3-bdbd-18b794530944"
      },
      "execution_count": 100,
      "outputs": [
        {
          "output_type": "stream",
          "name": "stdout",
          "text": [
            "\n",
            " RMSE for r = 0 is : 0.515\n",
            "\n",
            " RMSE for r = 0.01 is : 0.515\n",
            "\n",
            " RMSE for r = 0.1 is : 0.519\n",
            "\n",
            " RMSE for r = 1 is : 0.52\n",
            "\n",
            " RMSE for r = 5 is : 0.52\n",
            "\n",
            " RMSE for r = 10 is : 0.52\n",
            "\n",
            " RMSE for r = 100 is : 0.52\n"
          ]
        }
      ]
    },
    {
      "cell_type": "markdown",
      "source": [
        "## Trying different seeds for data split"
      ],
      "metadata": {
        "id": "vY_WnK8ons0k"
      }
    },
    {
      "cell_type": "code",
      "source": [
        "rmse_array = []\n",
        "for seed in [0, 1, 2, 3, 4, 5, 6, 7, 8, 9]:\n",
        "  df_shuffled = df.sample(frac=1, random_state=seed).reset_index(drop=True)\n",
        "  df_train, df_temp = train_test_split(df_shuffled, test_size=0.4, random_state=seed)\n",
        "  df_val, df_test = train_test_split(df_temp, test_size=0.5, random_state=seed)\n",
        "\n",
        "  df_val = df_val.reset_index(drop=True)\n",
        "\n",
        "  y_val = df_val.fuel_efficiency_mpg.values\n",
        "\n",
        "  del df_val['fuel_efficiency_mpg']\n",
        "\n",
        "  X_val = prepare_X(df_val)\n",
        "  w0, w = train_linear_regression(X_val, y_val)\n",
        "  y_pred = w0 + X_val.dot(w)\n",
        "  error = rmse(y_val, y_pred)\n",
        "  print(f\"RMSE for seed = {seed} is : {round(error, 3)}\")\n",
        "  rmse_array.append(error)\n",
        "print(np.std(rmse_array))"
      ],
      "metadata": {
        "colab": {
          "base_uri": "https://localhost:8080/"
        },
        "id": "CcDzRrMEoBJn",
        "outputId": "b44875be-f7b2-44b3-ad27-cf99e112ce2d"
      },
      "execution_count": 103,
      "outputs": [
        {
          "output_type": "stream",
          "name": "stdout",
          "text": [
            "RMSE for seed = 0 is : 0.517\n",
            "RMSE for seed = 1 is : 0.509\n",
            "RMSE for seed = 2 is : 0.514\n",
            "RMSE for seed = 3 is : 0.513\n",
            "RMSE for seed = 4 is : 0.518\n",
            "RMSE for seed = 5 is : 0.522\n",
            "RMSE for seed = 6 is : 0.512\n",
            "RMSE for seed = 7 is : 0.524\n",
            "RMSE for seed = 8 is : 0.507\n",
            "RMSE for seed = 9 is : 0.528\n",
            "0.006561934167573809\n"
          ]
        }
      ]
    },
    {
      "cell_type": "markdown",
      "source": [
        "## Final testing"
      ],
      "metadata": {
        "id": "lgNqiGba__Wa"
      }
    },
    {
      "cell_type": "markdown",
      "source": [
        "Where `seed = 9` and `r = 0.001`"
      ],
      "metadata": {
        "id": "ZH8finmqACRH"
      }
    },
    {
      "cell_type": "code",
      "source": [
        "df2 = df.fillna(0)\n",
        "seed = 9\n",
        "r = 0.001"
      ],
      "metadata": {
        "id": "dmmbpsF_BxZq"
      },
      "execution_count": 114,
      "outputs": []
    },
    {
      "cell_type": "code",
      "source": [
        "df2_shuffled = df2.sample(frac=1, random_state=seed).reset_index(drop=True)\n",
        "df2_train, df2_test = train_test_split(df_shuffled, test_size=0.2, random_state=seed)\n",
        "\n",
        "df2_test = df2_test.reset_index(drop=True)\n",
        "y2_test = df2_test.fuel_efficiency_mpg.values\n",
        "del df2_test['fuel_efficiency_mpg']\n",
        "\n",
        "X2_test = prepare_X(df2_test)\n",
        "w0, w = train_linear_regression_reg(X2_test, y2_test, r)\n",
        "y2_pred = w0 + X2_test.dot(w)\n",
        "error = rmse(y1_test, y1_pred)\n",
        "print(f\"RMSE for test dataset is : {round(error, 2)}\")"
      ],
      "metadata": {
        "colab": {
          "base_uri": "https://localhost:8080/"
        },
        "id": "d2xNeao0oFXc",
        "outputId": "f1aad639-21d5-438e-9763-404844278475"
      },
      "execution_count": 113,
      "outputs": [
        {
          "output_type": "stream",
          "name": "stdout",
          "text": [
            "RMSE for test dataset is : 0.52\n"
          ]
        }
      ]
    }
  ]
}